{
 "cells": [
  {
   "cell_type": "markdown",
   "id": "cd57132f",
   "metadata": {},
   "source": [
    "First we want to begin by reading the data from the csv file with its headers into a dataframe and removing an null rows. Feature selection has been pre-performed and we only keep the columns in the dataframe that have useful features."
   ]
  },
  {
   "cell_type": "code",
   "execution_count": 14,
   "id": "2a311ba5",
   "metadata": {},
   "outputs": [
    {
     "data": {
      "text/html": [
       "<table>\n",
       "<thead><tr><th scope=col>HeatIndexC</th><th scope=col>maxtempC</th><th scope=col>mintempC</th><th scope=col>avgtempC</th><th scope=col>WindChillC</th><th scope=col>DewPointC</th></tr></thead>\n",
       "<tbody>\n",
       "\t<tr><td>31</td><td>27</td><td>26</td><td>27</td><td>27</td><td>25</td></tr>\n",
       "\t<tr><td>31</td><td>27</td><td>26</td><td>27</td><td>27</td><td>25</td></tr>\n",
       "\t<tr><td>31</td><td>27</td><td>26</td><td>27</td><td>27</td><td>25</td></tr>\n",
       "\t<tr><td>31</td><td>27</td><td>26</td><td>27</td><td>27</td><td>25</td></tr>\n",
       "\t<tr><td>31</td><td>28</td><td>26</td><td>27</td><td>27</td><td>25</td></tr>\n",
       "\t<tr><td>31</td><td>28</td><td>26</td><td>27</td><td>27</td><td>25</td></tr>\n",
       "</tbody>\n",
       "</table>\n"
      ],
      "text/latex": [
       "\\begin{tabular}{r|llllll}\n",
       " HeatIndexC & maxtempC & mintempC & avgtempC & WindChillC & DewPointC\\\\\n",
       "\\hline\n",
       "\t 31 & 27 & 26 & 27 & 27 & 25\\\\\n",
       "\t 31 & 27 & 26 & 27 & 27 & 25\\\\\n",
       "\t 31 & 27 & 26 & 27 & 27 & 25\\\\\n",
       "\t 31 & 27 & 26 & 27 & 27 & 25\\\\\n",
       "\t 31 & 28 & 26 & 27 & 27 & 25\\\\\n",
       "\t 31 & 28 & 26 & 27 & 27 & 25\\\\\n",
       "\\end{tabular}\n"
      ],
      "text/markdown": [
       "\n",
       "| HeatIndexC | maxtempC | mintempC | avgtempC | WindChillC | DewPointC |\n",
       "|---|---|---|---|---|---|\n",
       "| 31 | 27 | 26 | 27 | 27 | 25 |\n",
       "| 31 | 27 | 26 | 27 | 27 | 25 |\n",
       "| 31 | 27 | 26 | 27 | 27 | 25 |\n",
       "| 31 | 27 | 26 | 27 | 27 | 25 |\n",
       "| 31 | 28 | 26 | 27 | 27 | 25 |\n",
       "| 31 | 28 | 26 | 27 | 27 | 25 |\n",
       "\n"
      ],
      "text/plain": [
       "  HeatIndexC maxtempC mintempC avgtempC WindChillC DewPointC\n",
       "1 31         27       26       27       27         25       \n",
       "2 31         27       26       27       27         25       \n",
       "3 31         27       26       27       27         25       \n",
       "4 31         27       26       27       27         25       \n",
       "5 31         28       26       27       27         25       \n",
       "6 31         28       26       27       27         25       "
      ]
     },
     "metadata": {},
     "output_type": "display_data"
    }
   ],
   "source": [
    "data <- read.csv(\"Desktop/weather_data_24hr_HI.csv\", header = T)\n",
    "#remove null row\n",
    "data <- data[-4265,]\n",
    "#remove columns based on feature selection\n",
    "data <- data[,c(3,4,6,8,29,27)]\n",
    "head(data)"
   ]
  },
  {
   "cell_type": "markdown",
   "id": "fabb6208",
   "metadata": {},
   "source": [
    "We need to normalize the data (max-min normalization)"
   ]
  },
  {
   "cell_type": "code",
   "execution_count": 16,
   "id": "998fd063",
   "metadata": {},
   "outputs": [],
   "source": [
    "data$maxtempC <- (data$maxtempC-min(data$maxtempC))/(max(data$maxtempC)-min(data$maxtempC))\n",
    "data$avgtempC <- (data$avgtempC-min(data$avgtempC))/(max(data$avgtempC)-min(data$avgtempC))\n",
    "data$mintempC <- (data$mintempC-min(data$mintempC))/(max(data$mintempC)-min(data$mintempC))\n",
    "data$WindChillC <- (data$WindChillC-min(data$WindChillC))/(max(data$WindChillC)-min(data$WindChillC))\n",
    "data$DewPointC <- (data$DewPointC-min(data$DewPointC))/(max(data$DewPointC)-min(data$DewPointC))"
   ]
  },
  {
   "cell_type": "markdown",
   "id": "07f875e6",
   "metadata": {},
   "source": [
    "Partitioning the Data into testing and training data"
   ]
  },
  {
   "cell_type": "code",
   "execution_count": 17,
   "id": "bebd2964",
   "metadata": {},
   "outputs": [],
   "source": [
    "# If we repeat the learning, we get the same result\n",
    "set.seed(222)\n",
    "ind <- sample(2,nrow(data), replace = T, prob =c(0.7,0.3))\n",
    "training <- data[ind==1,]\n",
    "testing <- data[ind==2,]"
   ]
  },
  {
   "cell_type": "code",
   "execution_count": 18,
   "id": "cda4d569",
   "metadata": {},
   "outputs": [
    {
     "data": {
      "text/plain": [
       "\n",
       "Call:\n",
       "lm(formula = HeatIndexC ~ ., data = training)\n",
       "\n",
       "Residuals:\n",
       "    Min      1Q  Median      3Q     Max \n",
       "-5.3247 -0.9069 -0.0914  0.7796  7.3090 \n",
       "\n",
       "Coefficients:\n",
       "            Estimate Std. Error t value Pr(>|t|)    \n",
       "(Intercept)  15.9103     0.1915  83.097  < 2e-16 ***\n",
       "maxtempC      2.3228     0.5194   4.472 8.03e-06 ***\n",
       "mintempC     -1.9056     0.5036  -3.784 0.000157 ***\n",
       "avgtempC      4.2456     0.6752   6.288 3.68e-10 ***\n",
       "WindChillC   12.8606     0.4717  27.266  < 2e-16 ***\n",
       "DewPointC    10.4695     0.2908  35.996  < 2e-16 ***\n",
       "---\n",
       "Signif. codes:  0 ‘***’ 0.001 ‘**’ 0.01 ‘*’ 0.05 ‘.’ 0.1 ‘ ’ 1\n",
       "\n",
       "Residual standard error: 1.505 on 2970 degrees of freedom\n",
       "Multiple R-squared:  0.818,\tAdjusted R-squared:  0.8177 \n",
       "F-statistic:  2670 on 5 and 2970 DF,  p-value: < 2.2e-16\n"
      ]
     },
     "metadata": {},
     "output_type": "display_data"
    }
   ],
   "source": [
    "# Training the Linear regression model\n",
    "MLR <- lm(HeatIndexC~., data = training)\n",
    "summary(MLR)"
   ]
  },
  {
   "cell_type": "code",
   "execution_count": null,
   "id": "38dc409a",
   "metadata": {},
   "outputs": [],
   "source": []
  }
 ],
 "metadata": {
  "kernelspec": {
   "display_name": "R",
   "language": "R",
   "name": "ir"
  },
  "language_info": {
   "codemirror_mode": "r",
   "file_extension": ".r",
   "mimetype": "text/x-r-source",
   "name": "R",
   "pygments_lexer": "r",
   "version": "3.6.1"
  }
 },
 "nbformat": 4,
 "nbformat_minor": 5
}
